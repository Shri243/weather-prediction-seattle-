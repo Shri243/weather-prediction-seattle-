{
 "cells": [
  {
   "cell_type": "code",
   "execution_count": 1,
   "id": "b34da359",
   "metadata": {
    "_cell_guid": "b1076dfc-b9ad-4769-8c92-a6c4dae69d19",
    "_uuid": "8f2839f25d086af736a60e9eeb907d3b93b6e0e5",
    "execution": {
     "iopub.execute_input": "2022-01-25T17:53:43.635557Z",
     "iopub.status.busy": "2022-01-25T17:53:43.634306Z",
     "iopub.status.idle": "2022-01-25T17:53:43.657045Z",
     "shell.execute_reply": "2022-01-25T17:53:43.656326Z",
     "shell.execute_reply.started": "2022-01-25T16:55:27.983961Z"
    },
    "papermill": {
     "duration": 0.046316,
     "end_time": "2022-01-25T17:53:43.657285",
     "exception": false,
     "start_time": "2022-01-25T17:53:43.610969",
     "status": "completed"
    },
    "tags": []
   },
   "outputs": [],
   "source": [
    "import numpy as np\n",
    "import pandas as pd "
   ]
  },
  {
   "cell_type": "code",
   "execution_count": 2,
   "id": "fb8daab1",
   "metadata": {
    "execution": {
     "iopub.execute_input": "2022-01-25T17:53:43.700856Z",
     "iopub.status.busy": "2022-01-25T17:53:43.700036Z",
     "iopub.status.idle": "2022-01-25T17:53:45.348763Z",
     "shell.execute_reply": "2022-01-25T17:53:45.349321Z",
     "shell.execute_reply.started": "2022-01-25T17:41:55.523867Z"
    },
    "papermill": {
     "duration": 1.673587,
     "end_time": "2022-01-25T17:53:45.349567",
     "exception": false,
     "start_time": "2022-01-25T17:53:43.675980",
     "status": "completed"
    },
    "tags": []
   },
   "outputs": [],
   "source": [
    "import matplotlib.pyplot as plt\n",
    "import seaborn as sb\n",
    "from sklearn.ensemble import GradientBoostingClassifier\n",
    "from sklearn.svm import SVC\n",
    "from sklearn.metrics import accuracy_score"
   ]
  },
  {
   "cell_type": "code",
   "execution_count": 3,
   "id": "9c679ce4",
   "metadata": {
    "execution": {
     "iopub.execute_input": "2022-01-25T17:53:45.393379Z",
     "iopub.status.busy": "2022-01-25T17:53:45.392373Z",
     "iopub.status.idle": "2022-01-25T17:53:45.414757Z",
     "shell.execute_reply": "2022-01-25T17:53:45.414015Z",
     "shell.execute_reply.started": "2022-01-25T16:59:01.032178Z"
    },
    "papermill": {
     "duration": 0.047114,
     "end_time": "2022-01-25T17:53:45.414926",
     "exception": false,
     "start_time": "2022-01-25T17:53:45.367812",
     "status": "completed"
    },
    "tags": []
   },
   "outputs": [],
   "source": [
    "data = pd.read_csv('seattle-weather.csv')"
   ]
  },
  {
   "cell_type": "code",
   "execution_count": 4,
   "id": "ede4fbb4",
   "metadata": {
    "execution": {
     "iopub.execute_input": "2022-01-25T17:53:45.460910Z",
     "iopub.status.busy": "2022-01-25T17:53:45.460172Z",
     "iopub.status.idle": "2022-01-25T17:53:45.479999Z",
     "shell.execute_reply": "2022-01-25T17:53:45.480573Z",
     "shell.execute_reply.started": "2022-01-25T16:59:16.586431Z"
    },
    "papermill": {
     "duration": 0.048041,
     "end_time": "2022-01-25T17:53:45.480860",
     "exception": false,
     "start_time": "2022-01-25T17:53:45.432819",
     "status": "completed"
    },
    "tags": []
   },
   "outputs": [
    {
     "data": {
      "text/html": [
       "<div>\n",
       "<style scoped>\n",
       "    .dataframe tbody tr th:only-of-type {\n",
       "        vertical-align: middle;\n",
       "    }\n",
       "\n",
       "    .dataframe tbody tr th {\n",
       "        vertical-align: top;\n",
       "    }\n",
       "\n",
       "    .dataframe thead th {\n",
       "        text-align: right;\n",
       "    }\n",
       "</style>\n",
       "<table border=\"1\" class=\"dataframe\">\n",
       "  <thead>\n",
       "    <tr style=\"text-align: right;\">\n",
       "      <th></th>\n",
       "      <th>date</th>\n",
       "      <th>precipitation</th>\n",
       "      <th>temp_max</th>\n",
       "      <th>temp_min</th>\n",
       "      <th>wind</th>\n",
       "      <th>weather</th>\n",
       "    </tr>\n",
       "  </thead>\n",
       "  <tbody>\n",
       "    <tr>\n",
       "      <th>0</th>\n",
       "      <td>2012-01-01</td>\n",
       "      <td>0.0</td>\n",
       "      <td>12.8</td>\n",
       "      <td>5.0</td>\n",
       "      <td>4.7</td>\n",
       "      <td>drizzle</td>\n",
       "    </tr>\n",
       "    <tr>\n",
       "      <th>1</th>\n",
       "      <td>2012-01-02</td>\n",
       "      <td>10.9</td>\n",
       "      <td>10.6</td>\n",
       "      <td>2.8</td>\n",
       "      <td>4.5</td>\n",
       "      <td>rain</td>\n",
       "    </tr>\n",
       "    <tr>\n",
       "      <th>2</th>\n",
       "      <td>2012-01-03</td>\n",
       "      <td>0.8</td>\n",
       "      <td>11.7</td>\n",
       "      <td>7.2</td>\n",
       "      <td>2.3</td>\n",
       "      <td>rain</td>\n",
       "    </tr>\n",
       "    <tr>\n",
       "      <th>3</th>\n",
       "      <td>2012-01-04</td>\n",
       "      <td>20.3</td>\n",
       "      <td>12.2</td>\n",
       "      <td>5.6</td>\n",
       "      <td>4.7</td>\n",
       "      <td>rain</td>\n",
       "    </tr>\n",
       "    <tr>\n",
       "      <th>4</th>\n",
       "      <td>2012-01-05</td>\n",
       "      <td>1.3</td>\n",
       "      <td>8.9</td>\n",
       "      <td>2.8</td>\n",
       "      <td>6.1</td>\n",
       "      <td>rain</td>\n",
       "    </tr>\n",
       "  </tbody>\n",
       "</table>\n",
       "</div>"
      ],
      "text/plain": [
       "         date  precipitation  temp_max  temp_min  wind  weather\n",
       "0  2012-01-01            0.0      12.8       5.0   4.7  drizzle\n",
       "1  2012-01-02           10.9      10.6       2.8   4.5     rain\n",
       "2  2012-01-03            0.8      11.7       7.2   2.3     rain\n",
       "3  2012-01-04           20.3      12.2       5.6   4.7     rain\n",
       "4  2012-01-05            1.3       8.9       2.8   6.1     rain"
      ]
     },
     "execution_count": 4,
     "metadata": {},
     "output_type": "execute_result"
    }
   ],
   "source": [
    "data.head()"
   ]
  },
  {
   "cell_type": "code",
   "execution_count": 5,
   "id": "28a82adb",
   "metadata": {
    "execution": {
     "iopub.execute_input": "2022-01-25T17:53:45.522982Z",
     "iopub.status.busy": "2022-01-25T17:53:45.522236Z",
     "iopub.status.idle": "2022-01-25T17:53:45.527420Z",
     "shell.execute_reply": "2022-01-25T17:53:45.527961Z",
     "shell.execute_reply.started": "2022-01-25T16:59:26.208409Z"
    },
    "papermill": {
     "duration": 0.027867,
     "end_time": "2022-01-25T17:53:45.528177",
     "exception": false,
     "start_time": "2022-01-25T17:53:45.500310",
     "status": "completed"
    },
    "tags": []
   },
   "outputs": [
    {
     "data": {
      "text/plain": [
       "(1461, 6)"
      ]
     },
     "execution_count": 5,
     "metadata": {},
     "output_type": "execute_result"
    }
   ],
   "source": [
    "data.shape"
   ]
  },
  {
   "cell_type": "code",
   "execution_count": 6,
   "id": "b7091476",
   "metadata": {
    "execution": {
     "iopub.execute_input": "2022-01-25T17:53:45.569478Z",
     "iopub.status.busy": "2022-01-25T17:53:45.568646Z",
     "iopub.status.idle": "2022-01-25T17:53:45.824918Z",
     "shell.execute_reply": "2022-01-25T17:53:45.824292Z",
     "shell.execute_reply.started": "2022-01-25T17:00:28.308670Z"
    },
    "papermill": {
     "duration": 0.278571,
     "end_time": "2022-01-25T17:53:45.825117",
     "exception": false,
     "start_time": "2022-01-25T17:53:45.546546",
     "status": "completed"
    },
    "tags": []
   },
   "outputs": [
    {
     "data": {
      "image/png": "[encoded data removed]",
      "text/plain": [
       "<Figure size 640x480 with 1 Axes>"
      ]
     },
     "metadata": {},
     "output_type": "display_data"
    }
   ],
   "source": [
    "sb.countplot(x = \"weather\", data = data, palette = 'Set1');"
   ]
  },
  {
   "cell_type": "code",
   "execution_count": 7,
   "id": "37af6806",
   "metadata": {
    "execution": {
     "iopub.execute_input": "2022-01-25T17:53:46.001618Z",
     "iopub.status.busy": "2022-01-25T17:53:45.968685Z",
     "iopub.status.idle": "2022-01-25T17:53:47.256113Z",
     "shell.execute_reply": "2022-01-25T17:53:47.256630Z",
     "shell.execute_reply.started": "2022-01-25T17:52:40.488259Z"
    },
    "papermill": {
     "duration": 1.35152,
     "end_time": "2022-01-25T17:53:47.256839",
     "exception": false,
     "start_time": "2022-01-25T17:53:45.905319",
     "status": "completed"
    },
    "tags": []
   },
   "outputs": [
    {
     "data": {
      "image/png": "[encoded data removed]",
      "text/plain": [
       "<Figure size 640x480 with 1 Axes>"
      ]
     },
     "metadata": {},
     "output_type": "display_data"
    }
   ],
   "source": [
    "# EDA OF OTHER DATATYPES\n",
    "data[\"precipitation\"].plot(kind = 'hist',color='#808080',edgecolor='#000000')\n",
    "plt.show()"
   ]
  },
  {
   "cell_type": "code",
   "execution_count": 8,
   "id": "cc6bfba9",
   "metadata": {},
   "outputs": [
    {
     "data": {
      "image/png": "[encoded data removed]",
      "text/plain": [
       "<Figure size 640x480 with 1 Axes>"
      ]
     },
     "metadata": {},
     "output_type": "display_data"
    }
   ],
   "source": [
    "data[\"temp_max\"].plot(kind = 'hist',color='#76FF7B',edgecolor='green')\n",
    "plt.show()"
   ]
  },
  {
   "cell_type": "code",
   "execution_count": 9,
   "id": "72a7fdfd",
   "metadata": {},
   "outputs": [
    {
     "data": {
      "image/png": "[encoded data removed]",
      "text/plain": [
       "<Figure size 640x480 with 1 Axes>"
      ]
     },
     "metadata": {},
     "output_type": "display_data"
    }
   ],
   "source": [
    "data[\"temp_min\"].plot(kind = 'hist',color='#00FFFF',edgecolor='#0000FF')\n",
    "plt.show()"
   ]
  },
  {
   "cell_type": "code",
   "execution_count": 10,
   "id": "c699f197",
   "metadata": {},
   "outputs": [
    {
     "data": {
      "image/png": "[encoded data removed]",
      "text/plain": [
       "<Figure size 640x480 with 1 Axes>"
      ]
     },
     "metadata": {},
     "output_type": "display_data"
    }
   ],
   "source": [
    "data[\"wind\"].plot(kind = 'hist',color='#EE82EE',edgecolor='purple')\n",
    "plt.show()"
   ]
  },
  {
   "cell_type": "code",
   "execution_count": 11,
   "id": "ae74769f",
   "metadata": {
    "execution": {
     "iopub.execute_input": "2022-01-25T17:53:47.457402Z",
     "iopub.status.busy": "2022-01-25T17:53:47.456315Z",
     "iopub.status.idle": "2022-01-25T17:53:47.461504Z",
     "shell.execute_reply": "2022-01-25T17:53:47.462077Z",
     "shell.execute_reply.started": "2022-01-25T17:28:22.388052Z"
    },
    "papermill": {
     "duration": 0.030568,
     "end_time": "2022-01-25T17:53:47.462256",
     "exception": false,
     "start_time": "2022-01-25T17:53:47.431688",
     "status": "completed"
    },
    "tags": []
   },
   "outputs": [],
   "source": [
    "data = data.drop([\"date\"], axis = 1)"
   ]
  },
  {
   "cell_type": "code",
   "execution_count": 12,
   "id": "27a334a3",
   "metadata": {
    "execution": {
     "iopub.execute_input": "2022-01-25T17:53:47.510617Z",
     "iopub.status.busy": "2022-01-25T17:53:47.509588Z",
     "iopub.status.idle": "2022-01-25T17:53:47.515134Z",
     "shell.execute_reply": "2022-01-25T17:53:47.515704Z",
     "shell.execute_reply.started": "2022-01-25T17:37:33.486167Z"
    },
    "papermill": {
     "duration": 0.031367,
     "end_time": "2022-01-25T17:53:47.515879",
     "exception": false,
     "start_time": "2022-01-25T17:53:47.484512",
     "status": "completed"
    },
    "tags": []
   },
   "outputs": [
    {
     "data": {
      "text/html": [
       "<div>\n",
       "<style scoped>\n",
       "    .dataframe tbody tr th:only-of-type {\n",
       "        vertical-align: middle;\n",
       "    }\n",
       "\n",
       "    .dataframe tbody tr th {\n",
       "        vertical-align: top;\n",
       "    }\n",
       "\n",
       "    .dataframe thead th {\n",
       "        text-align: right;\n",
       "    }\n",
       "</style>\n",
       "<table border=\"1\" class=\"dataframe\">\n",
       "  <thead>\n",
       "    <tr style=\"text-align: right;\">\n",
       "      <th></th>\n",
       "      <th>temp_max</th>\n",
       "      <th>temp_min</th>\n",
       "      <th>precipitation</th>\n",
       "      <th>wind</th>\n",
       "    </tr>\n",
       "  </thead>\n",
       "  <tbody>\n",
       "    <tr>\n",
       "      <th>0</th>\n",
       "      <td>12.8</td>\n",
       "      <td>5.0</td>\n",
       "      <td>0.0</td>\n",
       "      <td>4.7</td>\n",
       "    </tr>\n",
       "    <tr>\n",
       "      <th>1</th>\n",
       "      <td>10.6</td>\n",
       "      <td>2.8</td>\n",
       "      <td>10.9</td>\n",
       "      <td>4.5</td>\n",
       "    </tr>\n",
       "    <tr>\n",
       "      <th>2</th>\n",
       "      <td>11.7</td>\n",
       "      <td>7.2</td>\n",
       "      <td>0.8</td>\n",
       "      <td>2.3</td>\n",
       "    </tr>\n",
       "    <tr>\n",
       "      <th>3</th>\n",
       "      <td>12.2</td>\n",
       "      <td>5.6</td>\n",
       "      <td>20.3</td>\n",
       "      <td>4.7</td>\n",
       "    </tr>\n",
       "    <tr>\n",
       "      <th>4</th>\n",
       "      <td>8.9</td>\n",
       "      <td>2.8</td>\n",
       "      <td>1.3</td>\n",
       "      <td>6.1</td>\n",
       "    </tr>\n",
       "    <tr>\n",
       "      <th>...</th>\n",
       "      <td>...</td>\n",
       "      <td>...</td>\n",
       "      <td>...</td>\n",
       "      <td>...</td>\n",
       "    </tr>\n",
       "    <tr>\n",
       "      <th>1456</th>\n",
       "      <td>4.4</td>\n",
       "      <td>1.7</td>\n",
       "      <td>8.6</td>\n",
       "      <td>2.9</td>\n",
       "    </tr>\n",
       "    <tr>\n",
       "      <th>1457</th>\n",
       "      <td>5.0</td>\n",
       "      <td>1.7</td>\n",
       "      <td>1.5</td>\n",
       "      <td>1.3</td>\n",
       "    </tr>\n",
       "    <tr>\n",
       "      <th>1458</th>\n",
       "      <td>7.2</td>\n",
       "      <td>0.6</td>\n",
       "      <td>0.0</td>\n",
       "      <td>2.6</td>\n",
       "    </tr>\n",
       "    <tr>\n",
       "      <th>1459</th>\n",
       "      <td>5.6</td>\n",
       "      <td>-1.0</td>\n",
       "      <td>0.0</td>\n",
       "      <td>3.4</td>\n",
       "    </tr>\n",
       "    <tr>\n",
       "      <th>1460</th>\n",
       "      <td>5.6</td>\n",
       "      <td>-2.1</td>\n",
       "      <td>0.0</td>\n",
       "      <td>3.5</td>\n",
       "    </tr>\n",
       "  </tbody>\n",
       "</table>\n",
       "<p>1461 rows × 4 columns</p>\n",
       "</div>"
      ],
      "text/plain": [
       "      temp_max  temp_min  precipitation  wind\n",
       "0         12.8       5.0            0.0   4.7\n",
       "1         10.6       2.8           10.9   4.5\n",
       "2         11.7       7.2            0.8   2.3\n",
       "3         12.2       5.6           20.3   4.7\n",
       "4          8.9       2.8            1.3   6.1\n",
       "...        ...       ...            ...   ...\n",
       "1456       4.4       1.7            8.6   2.9\n",
       "1457       5.0       1.7            1.5   1.3\n",
       "1458       7.2       0.6            0.0   2.6\n",
       "1459       5.6      -1.0            0.0   3.4\n",
       "1460       5.6      -2.1            0.0   3.5\n",
       "\n",
       "[1461 rows x 4 columns]"
      ]
     },
     "execution_count": 12,
     "metadata": {},
     "output_type": "execute_result"
    }
   ],
   "source": [
    "y = data['weather']\n",
    "features =['temp_max', 'temp_min', 'precipitation', 'wind']\n",
    "x = data[features]\n",
    "x"
   ]
  },
  {
   "cell_type": "code",
   "execution_count": 13,
   "id": "9ae4ab22",
   "metadata": {
    "execution": {
     "iopub.execute_input": "2022-01-25T17:53:47.563580Z",
     "iopub.status.busy": "2022-01-25T17:53:47.562576Z",
     "iopub.status.idle": "2022-01-25T17:53:47.567604Z",
     "shell.execute_reply": "2022-01-25T17:53:47.568177Z",
     "shell.execute_reply.started": "2022-01-25T17:36:17.845054Z"
    },
    "papermill": {
     "duration": 0.030402,
     "end_time": "2022-01-25T17:53:47.568362",
     "exception": false,
     "start_time": "2022-01-25T17:53:47.537960",
     "status": "completed"
    },
    "tags": []
   },
   "outputs": [],
   "source": [
    "from sklearn import preprocessing\n",
    "lc = preprocessing.LabelEncoder()\n",
    "data[\"weather\"] = lc.fit_transform(data[\"weather\"])"
   ]
  },
  {
   "cell_type": "code",
   "execution_count": 14,
   "id": "62bc5332",
   "metadata": {
    "execution": {
     "iopub.execute_input": "2022-01-25T17:53:47.616037Z",
     "iopub.status.busy": "2022-01-25T17:53:47.614997Z",
     "iopub.status.idle": "2022-01-25T17:53:47.622989Z",
     "shell.execute_reply": "2022-01-25T17:53:47.623585Z",
     "shell.execute_reply.started": "2022-01-25T17:38:08.099140Z"
    },
    "papermill": {
     "duration": 0.033531,
     "end_time": "2022-01-25T17:53:47.623764",
     "exception": false,
     "start_time": "2022-01-25T17:53:47.590233",
     "status": "completed"
    },
    "tags": []
   },
   "outputs": [],
   "source": [
    "from sklearn.model_selection import  train_test_split\n",
    "x_train, x_test, y_train, y_test = train_test_split(x, y, test_size = 0.2, random_state = 2)"
   ]
  },
  {
   "cell_type": "code",
   "execution_count": 15,
   "id": "7ccd2127",
   "metadata": {
    "execution": {
     "iopub.execute_input": "2022-01-25T17:53:47.857127Z",
     "iopub.status.busy": "2022-01-25T17:53:47.856332Z",
     "iopub.status.idle": "2022-01-25T17:53:48.721794Z",
     "shell.execute_reply": "2022-01-25T17:53:48.721225Z",
     "shell.execute_reply.started": "2022-01-25T17:49:31.905068Z"
    },
    "papermill": {
     "duration": 0.898064,
     "end_time": "2022-01-25T17:53:48.721957",
     "exception": false,
     "start_time": "2022-01-25T17:53:47.823893",
     "status": "completed"
    },
    "tags": []
   },
   "outputs": [
    {
     "data": {
      "text/plain": [
       "'Accuracy of GBC Model is 84.98293515358361'"
      ]
     },
     "execution_count": 15,
     "metadata": {},
     "output_type": "execute_result"
    }
   ],
   "source": [
    "gbc = GradientBoostingClassifier()\n",
    "gbcmodel = gbc.fit(x_train, y_train)\n",
    "\"Accuracy of GBC Model is \"+str(gbc.score(x_test, y_test)*100)"
   ]
  },
  {
   "cell_type": "code",
   "execution_count": 16,
   "id": "d22869fe",
   "metadata": {},
   "outputs": [
    {
     "data": {
      "image/png": "[encoded data removed]",
      "text/plain": [
       "<Figure size 640x480 with 2 Axes>"
      ]
     },
     "metadata": {},
     "output_type": "display_data"
    }
   ],
   "source": [
    "import matplotlib.pyplot as plt\n",
    "from sklearn import metrics\n",
    "y_pred = gbcmodel.predict(x_train)\n",
    "confusion_matrix = metrics.confusion_matrix(y_train, y_pred)\n",
    "cm_display = metrics.ConfusionMatrixDisplay(confusion_matrix = confusion_matrix)\n",
    "cm_display.plot(cmap=plt.cm.cool)\n",
    "plt.show()"
   ]
  }
 ],
 "metadata": {
  "kernelspec": {
   "display_name": "Python 3",
   "language": "python",
   "name": "python3"
  },
  "language_info": {
   "codemirror_mode": {
    "name": "ipython",
    "version": 3
   },
   "file_extension": ".py",
   "mimetype": "text/x-python",
   "name": "python",
   "nbconvert_exporter": "python",
   "pygments_lexer": "ipython3",
   "version": "3.10.8"
  },
  "papermill": {
   "default_parameters": {},
   "duration": 17.700373,
   "end_time": "2022-01-25T17:53:50.876017",
   "environment_variables": {},
   "exception": null,
   "input_path": "__notebook__.ipynb",
   "output_path": "__notebook__.ipynb",
   "parameters": {},
   "start_time": "2022-01-25T17:53:33.175644",
   "version": "2.3.3"
  },
  "vscode": {
   "interpreter": {
    "hash": "6dcdcdc1cf310ee80ad4cc71f2c16e9632293566ff100df52b6c24ccfe1c0207"
   }
  }
 },
 "nbformat": 4,
 "nbformat_minor": 5
}
